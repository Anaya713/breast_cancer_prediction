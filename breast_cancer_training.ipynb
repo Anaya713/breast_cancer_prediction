{
 "cells": [
  {
   "cell_type": "markdown",
   "id": "e7850bbc",
   "metadata": {},
   "source": [
    "# 🩺 Breast Cancer Prediction (ML Model)\n",
    "This notebook demonstrates a **Neural Network model** for predicting whether a breast tumor is benign or malignant using the **Wisconsin Breast Cancer dataset**.\n",
    "We will preprocess the data, train the model, and evaluate its performance."
   ]
  },
  {
   "cell_type": "code",
   "execution_count": null,
   "id": "0fb9432c",
   "metadata": {},
   "outputs": [],
   "source": [
    "# 📦 Import required libraries\n",
    "import numpy as np\n",
    "import pandas as pd\n",
    "from sklearn import datasets\n",
    "from sklearn.model_selection import train_test_split\n",
    "from sklearn.preprocessing import StandardScaler\n",
    "from sklearn.metrics import classification_report, confusion_matrix\n",
    "import tensorflow as tf\n",
    "from tensorflow import keras\n"
   ]
  },
  {
   "cell_type": "code",
   "execution_count": null,
   "id": "ce144d19",
   "metadata": {},
   "outputs": [],
   "source": [
    "# 📥 Load the dataset\n",
    "cancer_data = datasets.load_breast_cancer()\n",
    "X = cancer_data.data\n",
    "Y = cancer_data.target\n",
    "\n",
    "# Display dataset info\n",
    "print(f\"Features: {cancer_data.feature_names}\")\n",
    "print(f\"Target classes: {cancer_data.target_names}\")\n",
    "print(f\"Shape of data: {X.shape}\")\n"
   ]
  },
  {
   "cell_type": "code",
   "execution_count": null,
   "id": "78f5dbe8",
   "metadata": {},
   "outputs": [],
   "source": [
    "# 🔄 Data Preprocessing\n",
    "scaler = StandardScaler()\n",
    "X_scaled = scaler.fit_transform(X)\n",
    "\n",
    "# Train-test split\n",
    "X_train, X_test, y_train, y_test = train_test_split(X_scaled, Y, test_size=0.2, random_state=42)\n"
   ]
  },
  {
   "cell_type": "code",
   "execution_count": null,
   "id": "cfd8e0f9",
   "metadata": {},
   "outputs": [],
   "source": [
    "# 🏗️ Build the Neural Network model\n",
    "tf.random.set_seed(42)\n",
    "model = keras.Sequential([\n",
    "    keras.layers.InputLayer(shape=(X.shape[1],)),\n",
    "    keras.layers.Dense(20, activation='relu'),\n",
    "    keras.layers.Dense(2, activation='softmax')\n",
    "])\n",
    "\n",
    "model.compile(optimizer='adam',\n",
    "              loss='sparse_categorical_crossentropy',\n",
    "              metrics=['accuracy'])\n",
    "\n",
    "model.summary()\n"
   ]
  },
  {
   "cell_type": "code",
   "execution_count": null,
   "id": "2df559fa",
   "metadata": {},
   "outputs": [],
   "source": [
    "# 🚀 Train the model\n",
    "history = model.fit(X_train, y_train, validation_data=(X_test, y_test), epochs=20, verbose=1)\n"
   ]
  },
  {
   "cell_type": "code",
   "execution_count": null,
   "id": "613b8fb1",
   "metadata": {},
   "outputs": [],
   "source": [
    "# 📊 Model Evaluation\n",
    "y_pred_probs = model.predict(X_test)\n",
    "y_pred = np.argmax(y_pred_probs, axis=1)\n",
    "\n",
    "print(\"Classification Report:\")\n",
    "print(classification_report(y_test, y_pred, target_names=cancer_data.target_names))\n",
    "\n",
    "print(\"Confusion Matrix:\")\n",
    "print(confusion_matrix(y_test, y_pred))\n"
   ]
  },
  {
   "cell_type": "code",
   "execution_count": null,
   "id": "e4ade9ad",
   "metadata": {},
   "outputs": [],
   "source": [
    "# 🔍 Example Prediction\n",
    "sample_input = X_test[0].reshape(1, -1)\n",
    "pred_prob = model.predict(sample_input)\n",
    "pred_class = np.argmax(pred_prob)\n",
    "\n",
    "print(\"Predicted Class:\", cancer_data.target_names[pred_class])\n",
    "print(\"Prediction Probabilities:\", pred_prob)\n"
   ]
  },
  {
   "cell_type": "markdown",
   "id": "51830520",
   "metadata": {},
   "source": [
    "### ✅ Conclusion\n",
    "Our Neural Network model can accurately classify breast cancer tumors as **benign** or **malignant** based on the given features. This notebook shows the full pipeline from data loading to model evaluation."
   ]
  }
 ],
 "metadata": {},
 "nbformat": 4,
 "nbformat_minor": 5
}
